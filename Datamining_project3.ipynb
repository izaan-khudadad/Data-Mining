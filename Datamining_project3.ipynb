{
 "cells": [
  {
   "cell_type": "markdown",
   "id": "3eee2836",
   "metadata": {},
   "source": [
    "To what extent can network performance indicators—such as signal strength, network type, reading from Signal Hound, SDR hardware reading and data throughput—be used to predict latency in cellular networks using regression analysis?"
   ]
  },
  {
   "cell_type": "code",
   "execution_count": 21,
   "id": "37536f7a",
   "metadata": {},
   "outputs": [],
   "source": [
    "import pandas as pd \n",
    "import numpy as np \n",
    "import matplotlib.pyplot as plt \n",
    "import seaborn as sns \n",
    "from sklearn.model_selection import train_test_split\n",
    "from sklearn.metrics import accuracy_score, classification_report, confusion_matrix\n",
    "from sklearn.tree import plot_tree\n",
    "from sklearn.preprocessing import StandardScaler\n",
    "from sklearn.linear_model import LinearRegression\n",
    "from sklearn.metrics import mean_absolute_error, mean_squared_error, r2_score\n",
    "import statsmodels.api as sm"
   ]
  },
  {
   "cell_type": "code",
   "execution_count": 22,
   "id": "cb829fa4",
   "metadata": {},
   "outputs": [
    {
     "name": "stdout",
     "output_type": "stream",
     "text": [
      "<class 'pandas.core.frame.DataFrame'>\n",
      "RangeIndex: 16829 entries, 0 to 16828\n",
      "Data columns (total 12 columns):\n",
      " #   Column                        Non-Null Count  Dtype  \n",
      "---  ------                        --------------  -----  \n",
      " 0   Timestamp                     16829 non-null  object \n",
      " 1   Locality                      16829 non-null  object \n",
      " 2   Latitude                      16829 non-null  float64\n",
      " 3   Longitude                     16829 non-null  float64\n",
      " 4   Signal Strength (dBm)         16829 non-null  float64\n",
      " 5   Signal Quality (%)            16829 non-null  float64\n",
      " 6   Data Throughput (Mbps)        16829 non-null  float64\n",
      " 7   Latency (ms)                  16829 non-null  float64\n",
      " 8   Network Type                  16829 non-null  object \n",
      " 9   BB60C Measurement (dBm)       16829 non-null  float64\n",
      " 10  srsRAN Measurement (dBm)      16829 non-null  float64\n",
      " 11  BladeRFxA9 Measurement (dBm)  16829 non-null  float64\n",
      "dtypes: float64(9), object(3)\n",
      "memory usage: 1.5+ MB\n"
     ]
    }
   ],
   "source": [
    "signal_metric = pd.read_csv(\"https://raw.githubusercontent.com/izaan-khudadad/Data-Mining/refs/heads/main/signal_metrics.csv\", na_values=['?'])\n",
    "signal_metric.info()"
   ]
  },
  {
   "cell_type": "code",
   "execution_count": 23,
   "id": "80934045",
   "metadata": {},
   "outputs": [
    {
     "name": "stdout",
     "output_type": "stream",
     "text": [
      "['timestamp', 'locality', 'latitude', 'longitude', 'signal_strength_dbm', 'signal_quality_', 'data_throughput_mbps', 'latency_ms', 'network_type', 'bb60c_measurement_dbm', 'srsran_measurement_dbm', 'bladerfxa9_measurement_dbm']\n"
     ]
    }
   ],
   "source": [
    "df = signal_metric\n",
    "\n",
    "# Clean and standardize column names\n",
    "df.columns = (\n",
    "    df.columns\n",
    "    .str.strip()                       # remove leading/trailing spaces\n",
    "    .str.lower()                       # convert to lowercase\n",
    "    .str.replace(r'[^\\w\\s]', '', regex=True)  # remove punctuation/symbols\n",
    "    .str.replace(r'\\s+', '_', regex=True)     # replace spaces with underscores\n",
    ")\n",
    "\n",
    "# Display new column names\n",
    "print(df.columns.tolist())"
   ]
  },
  {
   "cell_type": "code",
   "execution_count": 42,
   "id": "37657cb8",
   "metadata": {},
   "outputs": [
    {
     "data": {
      "text/html": [
       "<div>\n",
       "<style scoped>\n",
       "    .dataframe tbody tr th:only-of-type {\n",
       "        vertical-align: middle;\n",
       "    }\n",
       "\n",
       "    .dataframe tbody tr th {\n",
       "        vertical-align: top;\n",
       "    }\n",
       "\n",
       "    .dataframe thead th {\n",
       "        text-align: right;\n",
       "    }\n",
       "</style>\n",
       "<table border=\"1\" class=\"dataframe\">\n",
       "  <thead>\n",
       "    <tr style=\"text-align: right;\">\n",
       "      <th></th>\n",
       "      <th>latitude</th>\n",
       "      <th>longitude</th>\n",
       "      <th>signal_strength_dbm</th>\n",
       "      <th>signal_quality_</th>\n",
       "      <th>data_throughput_mbps</th>\n",
       "      <th>latency_ms</th>\n",
       "      <th>bb60c_measurement_dbm</th>\n",
       "      <th>srsran_measurement_dbm</th>\n",
       "      <th>bladerfxa9_measurement_dbm</th>\n",
       "    </tr>\n",
       "  </thead>\n",
       "  <tbody>\n",
       "    <tr>\n",
       "      <th>count</th>\n",
       "      <td>16829.000000</td>\n",
       "      <td>16829.000000</td>\n",
       "      <td>16829.000000</td>\n",
       "      <td>16829.0</td>\n",
       "      <td>16829.000000</td>\n",
       "      <td>16829.000000</td>\n",
       "      <td>16829.000000</td>\n",
       "      <td>16829.000000</td>\n",
       "      <td>16829.000000</td>\n",
       "    </tr>\n",
       "    <tr>\n",
       "      <th>mean</th>\n",
       "      <td>25.594796</td>\n",
       "      <td>85.137314</td>\n",
       "      <td>-90.072484</td>\n",
       "      <td>0.0</td>\n",
       "      <td>16.182856</td>\n",
       "      <td>101.313624</td>\n",
       "      <td>-68.820150</td>\n",
       "      <td>-74.439562</td>\n",
       "      <td>-68.819930</td>\n",
       "    </tr>\n",
       "    <tr>\n",
       "      <th>std</th>\n",
       "      <td>0.089881</td>\n",
       "      <td>0.090095</td>\n",
       "      <td>5.399368</td>\n",
       "      <td>0.0</td>\n",
       "      <td>25.702734</td>\n",
       "      <td>56.010418</td>\n",
       "      <td>40.046739</td>\n",
       "      <td>43.215204</td>\n",
       "      <td>39.996934</td>\n",
       "    </tr>\n",
       "    <tr>\n",
       "      <th>min</th>\n",
       "      <td>25.414575</td>\n",
       "      <td>84.957936</td>\n",
       "      <td>-116.942267</td>\n",
       "      <td>0.0</td>\n",
       "      <td>1.000423</td>\n",
       "      <td>10.019527</td>\n",
       "      <td>-115.667514</td>\n",
       "      <td>-124.652054</td>\n",
       "      <td>-119.207545</td>\n",
       "    </tr>\n",
       "    <tr>\n",
       "      <th>25%</th>\n",
       "      <td>25.522858</td>\n",
       "      <td>85.064124</td>\n",
       "      <td>-93.615962</td>\n",
       "      <td>0.0</td>\n",
       "      <td>2.001749</td>\n",
       "      <td>50.320775</td>\n",
       "      <td>-94.021959</td>\n",
       "      <td>-101.249987</td>\n",
       "      <td>-93.749032</td>\n",
       "    </tr>\n",
       "    <tr>\n",
       "      <th>50%</th>\n",
       "      <td>25.595383</td>\n",
       "      <td>85.138149</td>\n",
       "      <td>-89.665566</td>\n",
       "      <td>0.0</td>\n",
       "      <td>2.997175</td>\n",
       "      <td>100.264318</td>\n",
       "      <td>-89.126942</td>\n",
       "      <td>-96.838442</td>\n",
       "      <td>-89.282746</td>\n",
       "    </tr>\n",
       "    <tr>\n",
       "      <th>75%</th>\n",
       "      <td>25.667620</td>\n",
       "      <td>85.209504</td>\n",
       "      <td>-86.145491</td>\n",
       "      <td>0.0</td>\n",
       "      <td>9.956314</td>\n",
       "      <td>149.951112</td>\n",
       "      <td>0.000000</td>\n",
       "      <td>0.000000</td>\n",
       "      <td>0.000000</td>\n",
       "    </tr>\n",
       "    <tr>\n",
       "      <th>max</th>\n",
       "      <td>25.773648</td>\n",
       "      <td>85.316994</td>\n",
       "      <td>-74.644848</td>\n",
       "      <td>0.0</td>\n",
       "      <td>99.985831</td>\n",
       "      <td>199.991081</td>\n",
       "      <td>0.000000</td>\n",
       "      <td>0.000000</td>\n",
       "      <td>0.000000</td>\n",
       "    </tr>\n",
       "  </tbody>\n",
       "</table>\n",
       "</div>"
      ],
      "text/plain": [
       "           latitude     longitude  signal_strength_dbm  signal_quality_  \\\n",
       "count  16829.000000  16829.000000         16829.000000          16829.0   \n",
       "mean      25.594796     85.137314           -90.072484              0.0   \n",
       "std        0.089881      0.090095             5.399368              0.0   \n",
       "min       25.414575     84.957936          -116.942267              0.0   \n",
       "25%       25.522858     85.064124           -93.615962              0.0   \n",
       "50%       25.595383     85.138149           -89.665566              0.0   \n",
       "75%       25.667620     85.209504           -86.145491              0.0   \n",
       "max       25.773648     85.316994           -74.644848              0.0   \n",
       "\n",
       "       data_throughput_mbps    latency_ms  bb60c_measurement_dbm  \\\n",
       "count          16829.000000  16829.000000           16829.000000   \n",
       "mean              16.182856    101.313624             -68.820150   \n",
       "std               25.702734     56.010418              40.046739   \n",
       "min                1.000423     10.019527            -115.667514   \n",
       "25%                2.001749     50.320775             -94.021959   \n",
       "50%                2.997175    100.264318             -89.126942   \n",
       "75%                9.956314    149.951112               0.000000   \n",
       "max               99.985831    199.991081               0.000000   \n",
       "\n",
       "       srsran_measurement_dbm  bladerfxa9_measurement_dbm  \n",
       "count            16829.000000                16829.000000  \n",
       "mean               -74.439562                  -68.819930  \n",
       "std                 43.215204                   39.996934  \n",
       "min               -124.652054                 -119.207545  \n",
       "25%               -101.249987                  -93.749032  \n",
       "50%                -96.838442                  -89.282746  \n",
       "75%                  0.000000                    0.000000  \n",
       "max                  0.000000                    0.000000  "
      ]
     },
     "execution_count": 42,
     "metadata": {},
     "output_type": "execute_result"
    }
   ],
   "source": [
    "df.describe()"
   ]
  },
  {
   "cell_type": "code",
   "execution_count": 24,
   "id": "f7e09320",
   "metadata": {},
   "outputs": [
    {
     "data": {
      "text/plain": [
       "timestamp                     0\n",
       "locality                      0\n",
       "latitude                      0\n",
       "longitude                     0\n",
       "signal_strength_dbm           0\n",
       "signal_quality_               0\n",
       "data_throughput_mbps          0\n",
       "latency_ms                    0\n",
       "network_type                  0\n",
       "bb60c_measurement_dbm         0\n",
       "srsran_measurement_dbm        0\n",
       "bladerfxa9_measurement_dbm    0\n",
       "dtype: int64"
      ]
     },
     "execution_count": 24,
     "metadata": {},
     "output_type": "execute_result"
    }
   ],
   "source": [
    "df.isnull().sum()"
   ]
  },
  {
   "cell_type": "code",
   "execution_count": null,
   "id": "3acb6ba0",
   "metadata": {},
   "outputs": [],
   "source": [
    "X = df[['signal_strength_dbm', 'data_throughput_mbps',\n",
    "        'network_type', 'bb60c_measurement_dbm', 'srsran_measurement_dbm',\n",
    "        'bladerfxa9_measurement_dbm']]\n",
    "\n",
    "y = df['latency_ms']\n",
    "\n",
    "X = pd.get_dummies(X, drop_first=True)"
   ]
  },
  {
   "cell_type": "code",
   "execution_count": 45,
   "id": "dfb0079d",
   "metadata": {},
   "outputs": [],
   "source": [
    "X_train, X_test, y_train, y_test = train_test_split(X, y, test_size=0.2, random_state=42)"
   ]
  },
  {
   "cell_type": "code",
   "execution_count": 46,
   "id": "a0e3b05a",
   "metadata": {},
   "outputs": [],
   "source": [
    "model = LinearRegression()\n",
    "model.fit(X_train, y_train)\n",
    "y_pred = model.predict(X_test)"
   ]
  },
  {
   "cell_type": "code",
   "execution_count": 47,
   "id": "263ff0b7",
   "metadata": {},
   "outputs": [],
   "source": [
    "mae = mean_absolute_error(y_test, y_pred)\n",
    "rmse = np.sqrt(mean_squared_error(y_test, y_pred))\n",
    "r2 = r2_score(y_test, y_pred)"
   ]
  },
  {
   "cell_type": "code",
   "execution_count": 52,
   "id": "ba06fcb8",
   "metadata": {},
   "outputs": [],
   "source": [
    "mae = mean_absolute_error(y_test, y_pred)\n",
    "rmse = np.sqrt(mean_squared_error(y_test, y_pred))\n",
    "r2 = r2_score(y_test, y_pred)"
   ]
  },
  {
   "cell_type": "code",
   "execution_count": 51,
   "id": "2e4743dc",
   "metadata": {},
   "outputs": [
    {
     "name": "stdout",
     "output_type": "stream",
     "text": [
      "Model Evaluation:\n",
      "Mean Absolute Error (MAE): 18.14 ms\n",
      "Root Mean Squared Error (RMSE): 22.42 ms\n",
      "R² Score: 0.842\n"
     ]
    }
   ],
   "source": [
    "print(\"Model Evaluation:\")\n",
    "print(f\"Mean Absolute Error (MAE): {mae:.2f} ms\")\n",
    "print(f\"Root Mean Squared Error (RMSE): {rmse:.2f} ms\")\n",
    "print(f\"R² Score: {r2:.3f}\")"
   ]
  },
  {
   "cell_type": "code",
   "execution_count": 50,
   "id": "dd3cc2ae",
   "metadata": {},
   "outputs": [
    {
     "name": "stdout",
     "output_type": "stream",
     "text": [
      "\n",
      "Feature Coefficients:\n",
      "                      Feature  Coefficient\n",
      "7            network_type_LTE     9.968396\n",
      "4  bladerfxa9_measurement_dbm     0.096919\n",
      "2       bb60c_measurement_dbm     0.014040\n",
      "1        data_throughput_mbps     0.003966\n",
      "3      srsran_measurement_dbm    -0.007922\n",
      "0         signal_strength_dbm    -0.088481\n",
      "5             network_type_4G   -65.726637\n",
      "6             network_type_5G  -110.754302\n"
     ]
    }
   ],
   "source": [
    "coefficients = pd.DataFrame({\n",
    "    'Feature': X.columns,\n",
    "    'Coefficient': model.coef_\n",
    "}).sort_values(by='Coefficient', ascending=False)\n",
    "\n",
    "print(\"\\nFeature Coefficients:\")\n",
    "print(coefficients)"
   ]
  },
  {
   "cell_type": "markdown",
   "id": "0fff92ee",
   "metadata": {},
   "source": [
    "1. Network Type is the most powerful predictor of latency — 5G dramatically reduces delay compared to 4G and LTE.\n",
    "2. Signal Strength (dBm) also matters — better signal = lower latency.\n",
    "3. Device-level readings (the measurement variables) have much smaller effects.\n",
    "4. Removing signal_quality simplified the model without losing predictive power — a good data-driven call."
   ]
  }
 ],
 "metadata": {
  "kernelspec": {
   "display_name": "Python 3",
   "language": "python",
   "name": "python3"
  },
  "language_info": {
   "codemirror_mode": {
    "name": "ipython",
    "version": 3
   },
   "file_extension": ".py",
   "mimetype": "text/x-python",
   "name": "python",
   "nbconvert_exporter": "python",
   "pygments_lexer": "ipython3",
   "version": "3.12.10"
  }
 },
 "nbformat": 4,
 "nbformat_minor": 5
}
